{
 "cells": [
  {
   "cell_type": "markdown",
   "metadata": {},
   "source": [
    "# Car Price Prediction\n",
    "\n",
    "    This notebook will use the Kaggle cardekho data set to model car prices. With a 4 month old child, my wife and I have recently decided we need to upgrade our vehicle to something newer and safer. Given we are novices in the car purchasing world, I would like to explore what factors have the greatest impact on pricing so I can enter the market as a savvy buyer.\n",
    "    \n",
    "## Business Question\n",
    "\n",
    "**What are the greatest factors influencing the price of a vehicle?**\n",
    "- Use linear regression to fit and score a model to the cardekho dataset\n",
    "- Get the parameter list in order of explained variability\n",
    "- Consider the parameter list in how it impacts your buying decision\n",
    "\n",
    "**Is there a point at which buying a used car no longer makes sense?**\n",
    "\n",
    "- Model pricing with various loan terms and APRs"
   ]
  },
  {
   "cell_type": "code",
   "execution_count": 1,
   "metadata": {},
   "outputs": [
    {
     "data": {
      "text/plain": "                       name  year  selling_price  km_driven    fuel  \\\n0             Maruti 800 AC  2007          60000      70000  Petrol   \n1  Maruti Wagon R LXI Minor  2007         135000      50000  Petrol   \n2      Hyundai Verna 1.6 SX  2012         600000     100000  Diesel   \n3    Datsun RediGO T Option  2017         250000      46000  Petrol   \n4     Honda Amaze VX i-DTEC  2014         450000     141000  Diesel   \n\n  seller_type transmission         owner  \n0  Individual       Manual   First Owner  \n1  Individual       Manual   First Owner  \n2  Individual       Manual   First Owner  \n3  Individual       Manual   First Owner  \n4  Individual       Manual  Second Owner  ",
      "text/html": "<div>\n<style scoped>\n    .dataframe tbody tr th:only-of-type {\n        vertical-align: middle;\n    }\n\n    .dataframe tbody tr th {\n        vertical-align: top;\n    }\n\n    .dataframe thead th {\n        text-align: right;\n    }\n</style>\n<table border=\"1\" class=\"dataframe\">\n  <thead>\n    <tr style=\"text-align: right;\">\n      <th></th>\n      <th>name</th>\n      <th>year</th>\n      <th>selling_price</th>\n      <th>km_driven</th>\n      <th>fuel</th>\n      <th>seller_type</th>\n      <th>transmission</th>\n      <th>owner</th>\n    </tr>\n  </thead>\n  <tbody>\n    <tr>\n      <th>0</th>\n      <td>Maruti 800 AC</td>\n      <td>2007</td>\n      <td>60000</td>\n      <td>70000</td>\n      <td>Petrol</td>\n      <td>Individual</td>\n      <td>Manual</td>\n      <td>First Owner</td>\n    </tr>\n    <tr>\n      <th>1</th>\n      <td>Maruti Wagon R LXI Minor</td>\n      <td>2007</td>\n      <td>135000</td>\n      <td>50000</td>\n      <td>Petrol</td>\n      <td>Individual</td>\n      <td>Manual</td>\n      <td>First Owner</td>\n    </tr>\n    <tr>\n      <th>2</th>\n      <td>Hyundai Verna 1.6 SX</td>\n      <td>2012</td>\n      <td>600000</td>\n      <td>100000</td>\n      <td>Diesel</td>\n      <td>Individual</td>\n      <td>Manual</td>\n      <td>First Owner</td>\n    </tr>\n    <tr>\n      <th>3</th>\n      <td>Datsun RediGO T Option</td>\n      <td>2017</td>\n      <td>250000</td>\n      <td>46000</td>\n      <td>Petrol</td>\n      <td>Individual</td>\n      <td>Manual</td>\n      <td>First Owner</td>\n    </tr>\n    <tr>\n      <th>4</th>\n      <td>Honda Amaze VX i-DTEC</td>\n      <td>2014</td>\n      <td>450000</td>\n      <td>141000</td>\n      <td>Diesel</td>\n      <td>Individual</td>\n      <td>Manual</td>\n      <td>Second Owner</td>\n    </tr>\n  </tbody>\n</table>\n</div>"
     },
     "execution_count": 1,
     "metadata": {},
     "output_type": "execute_result"
    }
   ],
   "source": [
    "# Read in packages necessary\n",
    "import numpy as np\n",
    "import pandas as pd\n",
    "from matplotlib import pyplot as plt\n",
    "%matplotlib inline\n",
    "import seaborn as sns\n",
    "\n",
    "# Read in the cardekho data set\n",
    "cars_df = pd.read_csv('./cars.csv')\n",
    "cars_df.head()\n",
    "\n"
   ]
  },
  {
   "cell_type": "code",
   "execution_count": 14,
   "metadata": {},
   "outputs": [
    {
     "data": {
      "text/plain": [
       "name             False\n",
       "year             False\n",
       "selling_price    False\n",
       "km_driven        False\n",
       "fuel             False\n",
       "seller_type      False\n",
       "transmission     False\n",
       "owner            False\n",
       "dtype: bool"
      ]
     },
     "execution_count": 14,
     "metadata": {},
     "output_type": "execute_result"
    }
   ],
   "source": [
    "#Check for missingness\n",
    "np.sum(cars_df.isnull()) > 0"
   ]
  },
  {
   "cell_type": "code",
   "execution_count": 15,
   "metadata": {},
   "outputs": [
    {
     "data": {
      "text/plain": [
       "4340"
      ]
     },
     "execution_count": 15,
     "metadata": {},
     "output_type": "execute_result"
    }
   ],
   "source": [
    "#Row Count\n",
    "cars_df.shape[0]"
   ]
  },
  {
   "cell_type": "code",
   "execution_count": 16,
   "metadata": {},
   "outputs": [
    {
     "data": {
      "text/html": [
       "<div>\n",
       "<style scoped>\n",
       "    .dataframe tbody tr th:only-of-type {\n",
       "        vertical-align: middle;\n",
       "    }\n",
       "\n",
       "    .dataframe tbody tr th {\n",
       "        vertical-align: top;\n",
       "    }\n",
       "\n",
       "    .dataframe thead th {\n",
       "        text-align: right;\n",
       "    }\n",
       "</style>\n",
       "<table border=\"1\" class=\"dataframe\">\n",
       "  <thead>\n",
       "    <tr style=\"text-align: right;\">\n",
       "      <th></th>\n",
       "      <th>year</th>\n",
       "      <th>selling_price</th>\n",
       "      <th>km_driven</th>\n",
       "    </tr>\n",
       "  </thead>\n",
       "  <tbody>\n",
       "    <tr>\n",
       "      <th>count</th>\n",
       "      <td>4340.000000</td>\n",
       "      <td>4.340000e+03</td>\n",
       "      <td>4340.000000</td>\n",
       "    </tr>\n",
       "    <tr>\n",
       "      <th>mean</th>\n",
       "      <td>2013.090783</td>\n",
       "      <td>5.041273e+05</td>\n",
       "      <td>66215.777419</td>\n",
       "    </tr>\n",
       "    <tr>\n",
       "      <th>std</th>\n",
       "      <td>4.215344</td>\n",
       "      <td>5.785487e+05</td>\n",
       "      <td>46644.102194</td>\n",
       "    </tr>\n",
       "    <tr>\n",
       "      <th>min</th>\n",
       "      <td>1992.000000</td>\n",
       "      <td>2.000000e+04</td>\n",
       "      <td>1.000000</td>\n",
       "    </tr>\n",
       "    <tr>\n",
       "      <th>25%</th>\n",
       "      <td>2011.000000</td>\n",
       "      <td>2.087498e+05</td>\n",
       "      <td>35000.000000</td>\n",
       "    </tr>\n",
       "    <tr>\n",
       "      <th>50%</th>\n",
       "      <td>2014.000000</td>\n",
       "      <td>3.500000e+05</td>\n",
       "      <td>60000.000000</td>\n",
       "    </tr>\n",
       "    <tr>\n",
       "      <th>75%</th>\n",
       "      <td>2016.000000</td>\n",
       "      <td>6.000000e+05</td>\n",
       "      <td>90000.000000</td>\n",
       "    </tr>\n",
       "    <tr>\n",
       "      <th>max</th>\n",
       "      <td>2020.000000</td>\n",
       "      <td>8.900000e+06</td>\n",
       "      <td>806599.000000</td>\n",
       "    </tr>\n",
       "  </tbody>\n",
       "</table>\n",
       "</div>"
      ],
      "text/plain": [
       "              year  selling_price      km_driven\n",
       "count  4340.000000   4.340000e+03    4340.000000\n",
       "mean   2013.090783   5.041273e+05   66215.777419\n",
       "std       4.215344   5.785487e+05   46644.102194\n",
       "min    1992.000000   2.000000e+04       1.000000\n",
       "25%    2011.000000   2.087498e+05   35000.000000\n",
       "50%    2014.000000   3.500000e+05   60000.000000\n",
       "75%    2016.000000   6.000000e+05   90000.000000\n",
       "max    2020.000000   8.900000e+06  806599.000000"
      ]
     },
     "execution_count": 16,
     "metadata": {},
     "output_type": "execute_result"
    }
   ],
   "source": [
    "#Summary Stats\n",
    "cars_df.describe()"
   ]
  },
  {
   "cell_type": "code",
   "execution_count": 5,
   "metadata": {},
   "outputs": [
    {
     "data": {
      "text/plain": "['Hyundai EON Era Plus',\n 'Hyundai EON Magna Plus',\n 'Hyundai i10 Magna',\n 'Hyundai Santro Xing GLS',\n 'Hyundai Creta 1.6 CRDi SX',\n 'Hyundai Verna 1.6 SX',\n 'Hyundai Grand i10 1.2 Kappa Magna AT',\n 'Hyundai Verna 1.6 SX CRDi (O)',\n 'Hyundai Santro GS',\n 'Hyundai Grand i10 1.2 Kappa Asta',\n 'Hyundai Verna 1.6 VTVT SX',\n 'Hyundai Grand i10 Sportz',\n 'Hyundai i20 Asta 1.4 CRDi',\n 'Hyundai Grand i10 Magna AT',\n 'Hyundai i10 Sportz 1.2',\n 'Hyundai Santro Xing XG',\n 'Hyundai EON 1.0 Era Plus',\n 'Hyundai i20 Active 1.2 SX',\n 'Hyundai i20 Sportz 1.2',\n 'Hyundai i10 Era',\n 'Hyundai Santro Xing GL Plus',\n 'Hyundai Verna CRDi 1.6 SX Option',\n 'Hyundai Santro Xing XL eRLX Euro III',\n 'Hyundai Grand i10 1.2 Kappa Sportz BSIV',\n 'Hyundai Creta 1.6 CRDi SX Option',\n 'Hyundai i20 1.2 Sportz',\n 'Hyundai i20 1.4 Sportz',\n 'Hyundai Grand i10 CRDi Sportz',\n 'Hyundai i20 Active 1.2 S',\n 'Hyundai Accent CRDi',\n 'Hyundai i20 Asta Option 1.4 CRDi',\n 'Hyundai Verna CRDi',\n 'Hyundai Grand i10 Asta Option',\n 'Hyundai i20 Magna 1.2',\n 'Hyundai EON D Lite Plus',\n 'Hyundai Grand i10 CRDi Magna',\n 'Hyundai Xcent 1.2 Kappa S',\n 'Hyundai i20 Magna 1.4 CRDi (Diesel)',\n 'Hyundai Grand i10 Asta',\n 'Hyundai Xcent 1.1 CRDi Base',\n 'Hyundai i20 1.2 Spotz',\n 'Hyundai Santro LP zipPlus',\n 'Hyundai Grand i10 1.2 CRDi Asta',\n 'Hyundai i10 Sportz 1.1L',\n 'Hyundai EON D Lite',\n 'Hyundai Santro Xing XG eRLX Euro III',\n 'Hyundai i20 Magna Optional 1.4 CRDi',\n 'Hyundai Creta 1.6 CRDi SX Plus',\n 'Hyundai i10 Sportz 1.2 AT',\n 'Hyundai i10 Sportz',\n 'Hyundai i20 Asta',\n 'Hyundai i10 Magna 1.2',\n 'Hyundai i20 1.2 Asta',\n 'Hyundai i10 Magna 1.2 iTech SE',\n 'Hyundai Verna CRDi SX',\n 'Hyundai Verna 1.6 VTVT',\n 'Hyundai Getz GLS',\n 'Hyundai Grand i10 Magna',\n 'Hyundai Grand i10 1.2 Kappa Magna BSIV',\n 'Hyundai i20 Asta 1.2',\n 'Hyundai Accent Executive',\n 'Hyundai Creta 1.6 VTVT S',\n 'Hyundai Verna i (Petrol)',\n 'Hyundai Verna 1.6 CRDI',\n 'Hyundai Santro Xing XO',\n 'Hyundai Verna 1.6 SX VTVT (O)',\n 'Hyundai i10 Magna 1.1',\n 'Hyundai i20 Magna',\n 'Hyundai Verna SX Diesel',\n 'Hyundai i20 Asta (o)',\n 'Hyundai EON Era Plus Option',\n 'Hyundai EON Sportz',\n 'Hyundai i10 Era 1.1',\n 'Hyundai Santro LE zipPlus',\n 'Hyundai Verna 1.4 VTVT',\n 'Hyundai Grand i10 1.2 CRDi Sportz Option',\n 'Hyundai EON LPG Magna Plus',\n 'Hyundai Verna VTVT 1.6 AT SX Option',\n 'Hyundai Getz 1.3 GLS',\n 'Hyundai i20 1.2 Magna',\n 'Hyundai Xcent 1.1 CRDi SX Option',\n 'Hyundai Getz 1.5 CRDi GVS',\n 'Hyundai i20 1.4 Asta Option',\n 'Hyundai Santro GLS I - Euro I',\n 'Hyundai Xcent 1.2 Kappa SX',\n 'Hyundai Santro Magna AMT BSIV',\n 'Hyundai Elite i20 Asta Option CVT BSIV',\n 'Hyundai Accent GLX',\n 'Hyundai i10 Magna LPG',\n 'Hyundai Creta 1.6 SX Option',\n 'Hyundai Verna CRDi 1.6 EX',\n 'Hyundai Santro Xing XS',\n 'Hyundai Verna 1.6 CRDi SX',\n 'Hyundai Grand i10 1.2 Kappa Sportz Option',\n 'Hyundai Verna 1.6 VTVT S',\n 'Hyundai Verna CRDi 1.6 SX',\n 'Hyundai EON 1.0 Kappa Magna Plus',\n 'Hyundai Elite i20 Sportz Plus BSIV',\n 'Hyundai Verna 1.6 CRDI SX Option',\n 'Hyundai Xcent 1.2 VTVT S',\n 'Hyundai Verna 1.6 SX VTVT',\n 'Hyundai i10 Era 1.1 iTech SE',\n 'Hyundai Xcent 1.2 CRDi E',\n 'Hyundai i20 Active SX Petrol',\n 'Hyundai Santro Sportz BSIV',\n 'Hyundai Elite i20 Diesel Asta Option',\n 'Hyundai Verna 1.6 VTVT AT S Option',\n 'Hyundai Creta 1.4 CRDi Base',\n 'Hyundai EON Era Plus Sports Edition',\n 'Hyundai Santro LS zipPlus',\n 'Hyundai i20 1.4 CRDi Sportz',\n 'Hyundai Verna CRDi 1.6 AT EX',\n 'Hyundai i20 1.2 Asta Option',\n 'Hyundai Elite i20 Sportz Plus Dual Tone BSIV',\n 'Hyundai i20 1.4 CRDi Asta',\n 'Hyundai Verna CRDi ABS',\n 'Hyundai Elite i20 Asta Option BSIV',\n 'Hyundai Creta 1.6 VTVT AT SX Plus',\n 'Hyundai Grand i10 1.2 Kappa Sportz AT',\n 'Hyundai Creta 1.4 EX Diesel',\n 'Hyundai i20 Active S Petrol',\n 'Hyundai Creta 1.6 SX Automatic Diesel',\n 'Hyundai Santro Sportz AMT',\n 'Hyundai Accent Executive CNG',\n 'Hyundai Verna SX AT Diesel',\n 'Hyundai Grand i10 1.2 CRDi Magna',\n 'Hyundai i20 Sportz Petrol',\n 'Hyundai i20 Sportz 1.4 CRDi',\n 'Hyundai Verna CRDi SX ABS',\n 'Hyundai i20 1.2 Magna Executive',\n 'Hyundai i20 1.4 CRDi Magna',\n 'Hyundai i20 Active S Diesel',\n 'Hyundai Tucson 2.0 e-VGT 2WD MT',\n 'Hyundai i20 Active 1.4 SX',\n 'Hyundai i10 Magna 1.1L',\n 'Hyundai Grand i10 1.2 Kappa Sportz Dual Tone',\n 'Hyundai EON Magna Optional',\n 'Hyundai Verna SX',\n 'Hyundai Accent GLS',\n 'Hyundai Elantra CRDi S',\n 'Hyundai Santro Xing GL',\n 'Hyundai EON Magna',\n 'Hyundai Accent GLE CNG',\n 'Hyundai Creta 1.4 E Plus',\n 'Hyundai Venue SX Opt Diesel',\n 'Hyundai Creta 1.6 CRDi AT SX Plus',\n 'Hyundai EON Era',\n 'Hyundai Verna SX CRDi AT',\n 'Hyundai Getz GLX',\n 'Hyundai Santro Magna BSIV',\n 'Hyundai Grand i10 AT Asta',\n 'Hyundai Santro Xing XG AT',\n 'Hyundai Grand i10 Asta Option AT',\n 'Hyundai i20 1.2 Era',\n 'Hyundai i10 Asta AT',\n 'Hyundai i20 Asta Option 1.2',\n 'Hyundai Santro Xing XK',\n 'Hyundai Creta 1.6 SX Automatic',\n 'Hyundai Getz 1.3 GVS',\n 'Hyundai Grand i10 1.2 Kappa Era',\n 'Hyundai Santro AT',\n 'Hyundai Verna Transform SX VTVT',\n 'Hyundai i20 1.4 Magna Executive',\n 'Hyundai Verna 1.6 CRDi AT SX',\n 'Hyundai Xcent 1.2 CRDi S',\n 'Hyundai Verna 1.4 EX',\n 'Hyundai EON Magna Plus Option',\n 'Hyundai Santro AT CNG',\n 'Hyundai Santro Xing GL PLUS CNG',\n 'Hyundai Venue SX Opt Turbo BSIV',\n 'Hyundai i10 Sportz AT',\n 'Hyundai Xcent 1.2 CRDi SX',\n 'Hyundai Verna 1.6 Xi ABS',\n 'Hyundai Sonata 2.4L AT',\n 'Hyundai Elite i20 Diesel Era',\n 'Hyundai Santro Xing XK eRLX EuroIII',\n 'Hyundai i20 1.4 CRDi Era',\n 'Hyundai Santro Xing GLS CNG',\n 'Hyundai Verna 1.6 i ABS',\n 'Hyundai Grand i10 Nios AMT Magna',\n 'Hyundai Tucson CRDi',\n 'Hyundai Verna Transform CRDi VGT ABS',\n 'Hyundai i20 1.2 Asta Dual Tone',\n 'Hyundai Creta 1.6 SX',\n 'Hyundai Xcent 1.2 Kappa Base',\n 'Hyundai Getz GLE',\n 'Hyundai Xcent 1.2 VTVT E Plus',\n 'Hyundai i20 2015-2017 Sportz Option 1.4 CRDi',\n 'Hyundai Santro Magna CNG BSIV',\n 'Hyundai Sonata AT Leather',\n 'Hyundai Xcent 1.2 VTVT S AT',\n 'Hyundai Elantra CRDi (Leather Option)',\n 'Hyundai Santro Xing XS eRLX Euro III',\n 'Hyundai Verna Transform CRDi VGT SX ABS',\n 'Hyundai Santro Xing XK (Non-AC)',\n 'Hyundai Santa Fe 4X4',\n 'Hyundai Verna CRDi 1.6 AT SX Option',\n 'Hyundai Santro Xing GLS Audio LPG',\n 'Hyundai Verna Transform VTVT',\n 'Hyundai Accent GLS 1.6 ABS',\n 'Hyundai Getz GLS ABS',\n 'Hyundai Santro GLS I - Euro II',\n 'Hyundai Verna XXi (Petrol)',\n 'Hyundai Elantra 2.0 SX AT',\n 'Hyundai Getz GL',\n 'Hyundai Elite i20 Magna Plus BSIV',\n 'Hyundai Elite i20 Sportz Plus CVT BSIV',\n 'Hyundai Xcent 1.1 CRDi S',\n 'Hyundai Verna 1.6 SX VTVT AT',\n 'Hyundai i20 Active 1.4 SX with AVN',\n 'Hyundai Elite i20 Magna Plus Diesel',\n 'Hyundai i20 Sportz Option 1.2',\n 'Hyundai Elantra CRDi SX',\n 'Hyundai Verna VTVT 1.6 SX',\n 'Hyundai Grand i10 Nios Magna CRDi',\n 'Hyundai i20 Asta (o) 1.4 CRDi (Diesel)',\n 'Hyundai Santa Fe 4WD AT',\n 'Hyundai Accent GLE 1',\n 'Hyundai Santro Xing XL AT eRLX Euro III',\n 'Hyundai Elite i20 Petrol Magna Exective',\n 'Hyundai Santro LE',\n 'Hyundai Creta 1.6 E Plus',\n 'Hyundai Santro Era',\n 'Hyundai Xcent 1.1 CRDi SX',\n 'Hyundai Elite i20 Petrol Asta Option',\n 'Hyundai Accent GLE',\n 'Hyundai Grand i10 CRDi Asta',\n 'Hyundai i20 2015-2017 Magna 1.2',\n 'Hyundai Creta 1.6 Gamma SX Plus',\n 'Hyundai Elantra SX',\n 'Hyundai Santro Asta',\n 'Hyundai i20 Magna 1.4 CRDi',\n 'Hyundai i10 Magna 1.1 iTech SE',\n 'Hyundai Tucson 2.0 e-VGT 2WD AT GL',\n 'Hyundai i20 Asta 1.4 CRDi (Diesel)',\n 'Hyundai Grand i10 Nios Sportz',\n 'Hyundai Santro Xing GL Plus LPG',\n 'Hyundai i20 Magna Optional 1.2',\n 'Hyundai Creta 1.4 CRDi S Plus',\n 'Hyundai i20 1.4 Magna ABS',\n 'Hyundai Creta 1.4 CRDi S',\n 'Hyundai Sonata CRDi M/T',\n 'Hyundai Grand i10 CRDi Asta Option',\n 'Hyundai Verna 1.4 CRDi']"
     },
     "execution_count": 5,
     "metadata": {},
     "output_type": "execute_result"
    }
   ],
   "source": [
    "car_types = dict(cars_df['name'].value_counts())\n",
    "\n",
    "model = 'hyundai'\n",
    "[key for key in car_types.keys() if model in key.lower()]"
   ]
  },
  {
   "cell_type": "markdown",
   "source": [
    "### Explore associations among untransformed variables in cars df\n",
    "\n",
    "* check correlations\n",
    "* create viz: boxplots, histograms, etc.\n",
    "* groupings and transformations"
   ],
   "metadata": {
    "collapsed": false
   }
  },
  {
   "cell_type": "code",
   "execution_count": 7,
   "outputs": [
    {
     "data": {
      "text/plain": "                   year  selling_price  km_driven\nyear           1.000000       0.413922  -0.419688\nselling_price  0.413922       1.000000  -0.192289\nkm_driven     -0.419688      -0.192289   1.000000",
      "text/html": "<div>\n<style scoped>\n    .dataframe tbody tr th:only-of-type {\n        vertical-align: middle;\n    }\n\n    .dataframe tbody tr th {\n        vertical-align: top;\n    }\n\n    .dataframe thead th {\n        text-align: right;\n    }\n</style>\n<table border=\"1\" class=\"dataframe\">\n  <thead>\n    <tr style=\"text-align: right;\">\n      <th></th>\n      <th>year</th>\n      <th>selling_price</th>\n      <th>km_driven</th>\n    </tr>\n  </thead>\n  <tbody>\n    <tr>\n      <th>year</th>\n      <td>1.000000</td>\n      <td>0.413922</td>\n      <td>-0.419688</td>\n    </tr>\n    <tr>\n      <th>selling_price</th>\n      <td>0.413922</td>\n      <td>1.000000</td>\n      <td>-0.192289</td>\n    </tr>\n    <tr>\n      <th>km_driven</th>\n      <td>-0.419688</td>\n      <td>-0.192289</td>\n      <td>1.000000</td>\n    </tr>\n  </tbody>\n</table>\n</div>"
     },
     "execution_count": 7,
     "metadata": {},
     "output_type": "execute_result"
    }
   ],
   "source": [
    "#Correlations between continuous variables\n",
    "cars_df.corr()"
   ],
   "metadata": {
    "collapsed": false,
    "pycharm": {
     "name": "#%%\n"
    }
   }
  },
  {
   "cell_type": "markdown",
   "source": [
    "### Check distribution of Sale Price - Histogram\n",
    "- #### Could need log transformation if skewed"
   ],
   "metadata": {
    "collapsed": false,
    "pycharm": {
     "name": "#%% md\n"
    }
   }
  },
  {
   "cell_type": "code",
   "execution_count": 8,
   "outputs": [
    {
     "data": {
      "text/plain": "<AxesSubplot:xlabel='log_sellPrice', ylabel='Count'>"
     },
     "execution_count": 8,
     "metadata": {},
     "output_type": "execute_result"
    },
    {
     "data": {
      "text/plain": "<Figure size 432x288 with 1 Axes>",
      "image/png": "[encoded data removed]"
     },
     "metadata": {
      "needs_background": "light"
     },
     "output_type": "display_data"
    }
   ],
   "source": [
    "#sns.histplot(cars_df, x='selling_price')\n",
    "\n",
    "cars_df['log_sellPrice'] = np.log(cars_df['selling_price'])\n",
    "\n",
    "sns.histplot(cars_df, x='log_sellPrice')"
   ],
   "metadata": {
    "collapsed": false,
    "pycharm": {
     "name": "#%%\n"
    }
   }
  }
 ],
 "metadata": {
  "kernelspec": {
   "display_name": "Python 3",
   "language": "python",
   "name": "python3"
  },
  "language_info": {
   "codemirror_mode": {
    "name": "ipython",
    "version": 3
   },
   "file_extension": ".py",
   "mimetype": "text/x-python",
   "name": "python",
   "nbconvert_exporter": "python",
   "pygments_lexer": "ipython3",
   "version": "3.9.0"
  }
 },
 "nbformat": 4,
 "nbformat_minor": 1
}